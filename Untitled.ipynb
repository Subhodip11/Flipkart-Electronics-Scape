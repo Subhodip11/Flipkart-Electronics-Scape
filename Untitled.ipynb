{
 "cells": [
  {
   "cell_type": "code",
   "execution_count": 3,
   "id": "bbc6a4fe",
   "metadata": {},
   "outputs": [],
   "source": [
    "import requests\n",
    "from bs4 import BeautifulSoup"
   ]
  },
  {
   "cell_type": "code",
   "execution_count": 1,
   "id": "2db1cd57",
   "metadata": {},
   "outputs": [],
   "source": [
    "!pip install requests --upgrade --quiet"
   ]
  },
  {
   "cell_type": "code",
   "execution_count": 2,
   "id": "e9b503e6",
   "metadata": {},
   "outputs": [],
   "source": [
    "!pip install beautifulsoup4 --upgrade --quiet"
   ]
  },
  {
   "cell_type": "code",
   "execution_count": 4,
   "id": "4671b46e",
   "metadata": {},
   "outputs": [],
   "source": [
    "url='https://www.flipkart.com/search?q=mobiles&otracker=search&otracker1=search&marketplace=FLIPKART&as-show=on&as=off'\n",
    "request = requests.get(url)"
   ]
  },
  {
   "cell_type": "code",
   "execution_count": 9,
   "id": "ee8b425b",
   "metadata": {},
   "outputs": [],
   "source": [
    "doc=BeautifulSoup(request.text,'html.parser')"
   ]
  },
  {
   "cell_type": "code",
   "execution_count": 18,
   "id": "c177f46e",
   "metadata": {},
   "outputs": [],
   "source": [
    "phone_titles_tags = doc.findAll('div',{'class':'_4rR01T'})"
   ]
  },
  {
   "cell_type": "code",
   "execution_count": 38,
   "id": "c019cbc7",
   "metadata": {},
   "outputs": [
    {
     "name": "stdout",
     "output_type": "stream",
     "text": [
      "24\n"
     ]
    }
   ],
   "source": [
    "phone_titles=[titles.text for titles in phone_titles_tags]\n",
    "print(len(phone_titles))"
   ]
  },
  {
   "cell_type": "code",
   "execution_count": 20,
   "id": "2d97ef30",
   "metadata": {},
   "outputs": [],
   "source": [
    "phone_prices_tag = doc.findAll('div',{'class':'_30jeq3 _1_WHN1'})"
   ]
  },
  {
   "cell_type": "code",
   "execution_count": 37,
   "id": "6356563d",
   "metadata": {},
   "outputs": [
    {
     "name": "stdout",
     "output_type": "stream",
     "text": [
      "24\n"
     ]
    }
   ],
   "source": [
    "phone_prices=[prices.text for prices in phone_prices_tag]\n",
    "print(len(phone_prices))"
   ]
  },
  {
   "cell_type": "code",
   "execution_count": 23,
   "id": "879a477c",
   "metadata": {},
   "outputs": [],
   "source": [
    "phone_ratings_tag = doc.findAll('div',class_='_3LWZlK')"
   ]
  },
  {
   "cell_type": "code",
   "execution_count": 36,
   "id": "575815bd",
   "metadata": {},
   "outputs": [
    {
     "name": "stdout",
     "output_type": "stream",
     "text": [
      "39\n"
     ]
    }
   ],
   "source": [
    "phone_ratings=[list(ratings.children)[0] for ratings in phone_ratings_tag]\n",
    "print(len(phone_ratings))"
   ]
  },
  {
   "cell_type": "code",
   "execution_count": 30,
   "id": "0608982a",
   "metadata": {},
   "outputs": [],
   "source": [
    "phone_image_tag = doc.findAll('div',class_='CXW8mj')"
   ]
  },
  {
   "cell_type": "code",
   "execution_count": 40,
   "id": "88609cea",
   "metadata": {},
   "outputs": [
    {
     "name": "stdout",
     "output_type": "stream",
     "text": [
      "29\n"
     ]
    }
   ],
   "source": [
    "phone_images = [list(child.children)[0]['src'] for child in phone_image_tag]\n",
    "print(len(phone_images))"
   ]
  },
  {
   "cell_type": "code",
   "execution_count": 32,
   "id": "f3259146",
   "metadata": {},
   "outputs": [],
   "source": [
    "import pandas as pd"
   ]
  },
  {
   "cell_type": "code",
   "execution_count": 42,
   "id": "6faf38e7",
   "metadata": {},
   "outputs": [],
   "source": [
    "phone_object = {\n",
    "    'titles':phone_titles,\n",
    "    'prices':phone_prices,\n",
    "    'ratings':phone_ratings[:24],\n",
    "    'image_urls':phone_images[:24]\n",
    "}\n",
    "\n",
    "phone_information_df = pd.DataFrame(phone_object)"
   ]
  },
  {
   "cell_type": "code",
   "execution_count": 44,
   "id": "d4bd46e4",
   "metadata": {},
   "outputs": [
    {
     "data": {
      "text/html": [
       "<div>\n",
       "<style scoped>\n",
       "    .dataframe tbody tr th:only-of-type {\n",
       "        vertical-align: middle;\n",
       "    }\n",
       "\n",
       "    .dataframe tbody tr th {\n",
       "        vertical-align: top;\n",
       "    }\n",
       "\n",
       "    .dataframe thead th {\n",
       "        text-align: right;\n",
       "    }\n",
       "</style>\n",
       "<table border=\"1\" class=\"dataframe\">\n",
       "  <thead>\n",
       "    <tr style=\"text-align: right;\">\n",
       "      <th></th>\n",
       "      <th>titles</th>\n",
       "      <th>prices</th>\n",
       "      <th>ratings</th>\n",
       "      <th>image_urls</th>\n",
       "    </tr>\n",
       "  </thead>\n",
       "  <tbody>\n",
       "    <tr>\n",
       "      <th>0</th>\n",
       "      <td>Infinix HOT 12 Play (Daylight Green, 64 GB)</td>\n",
       "      <td>₹8,499</td>\n",
       "      <td>4.3</td>\n",
       "      <td>https://rukminim1.flixcart.com/image/312/312/l...</td>\n",
       "    </tr>\n",
       "    <tr>\n",
       "      <th>1</th>\n",
       "      <td>REDMI 10 (Pacific Blue, 64 GB)</td>\n",
       "      <td>₹9,999</td>\n",
       "      <td>4.4</td>\n",
       "      <td>https://rukminim1.flixcart.com/image/312/312/l...</td>\n",
       "    </tr>\n",
       "    <tr>\n",
       "      <th>2</th>\n",
       "      <td>APPLE iPhone 11 (Black, 64 GB)</td>\n",
       "      <td>₹40,999</td>\n",
       "      <td>4.6</td>\n",
       "      <td>https://rukminim1.flixcart.com/image/312/312/k...</td>\n",
       "    </tr>\n",
       "    <tr>\n",
       "      <th>3</th>\n",
       "      <td>Infinix HOT 12 Play (Horizon Blue, 64 GB)</td>\n",
       "      <td>₹8,499</td>\n",
       "      <td>4.3</td>\n",
       "      <td>https://rukminim1.flixcart.com/image/312/312/l...</td>\n",
       "    </tr>\n",
       "    <tr>\n",
       "      <th>4</th>\n",
       "      <td>REDMI 10 (Midnight Black, 64 GB)</td>\n",
       "      <td>₹9,999</td>\n",
       "      <td>4.4</td>\n",
       "      <td>https://rukminim1.flixcart.com/image/312/312/l...</td>\n",
       "    </tr>\n",
       "    <tr>\n",
       "      <th>5</th>\n",
       "      <td>Infinix HOT 12 Play (Racing Black, 64 GB)</td>\n",
       "      <td>₹8,499</td>\n",
       "      <td>4.3</td>\n",
       "      <td>https://rukminim1.flixcart.com/image/312/312/l...</td>\n",
       "    </tr>\n",
       "    <tr>\n",
       "      <th>6</th>\n",
       "      <td>REDMI 10 (Caribbean Green, 64 GB)</td>\n",
       "      <td>₹9,999</td>\n",
       "      <td>4.4</td>\n",
       "      <td>https://rukminim1.flixcart.com/image/312/312/l...</td>\n",
       "    </tr>\n",
       "    <tr>\n",
       "      <th>7</th>\n",
       "      <td>REDMI 9i Sport (Metallic Blue, 64 GB)</td>\n",
       "      <td>₹8,999</td>\n",
       "      <td>4.4</td>\n",
       "      <td>https://rukminim1.flixcart.com/image/312/312/k...</td>\n",
       "    </tr>\n",
       "    <tr>\n",
       "      <th>8</th>\n",
       "      <td>POCO C31 (Royal Blue, 64 GB)</td>\n",
       "      <td>₹8,749</td>\n",
       "      <td>4.4</td>\n",
       "      <td>https://rukminim1.flixcart.com/image/312/312/k...</td>\n",
       "    </tr>\n",
       "    <tr>\n",
       "      <th>9</th>\n",
       "      <td>REDMI 9i Sport (Coral Green, 64 GB)</td>\n",
       "      <td>₹8,999</td>\n",
       "      <td>4.4</td>\n",
       "      <td>https://rukminim1.flixcart.com/image/312/312/k...</td>\n",
       "    </tr>\n",
       "    <tr>\n",
       "      <th>10</th>\n",
       "      <td>SAMSUNG Galaxy F12 (Sky Blue, 64 GB)</td>\n",
       "      <td>₹11,499</td>\n",
       "      <td>4.3</td>\n",
       "      <td>https://rukminim1.flixcart.com/image/312/312/k...</td>\n",
       "    </tr>\n",
       "    <tr>\n",
       "      <th>11</th>\n",
       "      <td>realme C31 (Light Silver, 32 GB)</td>\n",
       "      <td>₹8,749</td>\n",
       "      <td>4.6</td>\n",
       "      <td>https://rukminim1.flixcart.com/image/312/312/l...</td>\n",
       "    </tr>\n",
       "    <tr>\n",
       "      <th>12</th>\n",
       "      <td>realme C31 (Dark Green, 32 GB)</td>\n",
       "      <td>₹8,749</td>\n",
       "      <td>4.6</td>\n",
       "      <td>https://rukminim1.flixcart.com/image/312/312/l...</td>\n",
       "    </tr>\n",
       "    <tr>\n",
       "      <th>13</th>\n",
       "      <td>SAMSUNG Galaxy F12 (Sea Green, 64 GB)</td>\n",
       "      <td>₹11,499</td>\n",
       "      <td>4.3</td>\n",
       "      <td>https://rukminim1.flixcart.com/image/312/312/k...</td>\n",
       "    </tr>\n",
       "    <tr>\n",
       "      <th>14</th>\n",
       "      <td>APPLE iPhone 11 (White, 128 GB)</td>\n",
       "      <td>₹45,999</td>\n",
       "      <td>4.6</td>\n",
       "      <td>https://rukminim1.flixcart.com/image/312/312/k...</td>\n",
       "    </tr>\n",
       "    <tr>\n",
       "      <th>15</th>\n",
       "      <td>ASUS ROG Phone 3 (Black, 128 GB)</td>\n",
       "      <td>₹49,999</td>\n",
       "      <td>4.4</td>\n",
       "      <td>https://rukminim1.flixcart.com/image/312/312/k...</td>\n",
       "    </tr>\n",
       "    <tr>\n",
       "      <th>16</th>\n",
       "      <td>realme C31 (Dark Green, 64 GB)</td>\n",
       "      <td>₹9,999</td>\n",
       "      <td>4.4</td>\n",
       "      <td>https://rukminim1.flixcart.com/image/312/312/l...</td>\n",
       "    </tr>\n",
       "    <tr>\n",
       "      <th>17</th>\n",
       "      <td>REDMI Note 10T 5G (Graphite Black, 128 GB)</td>\n",
       "      <td>₹13,999</td>\n",
       "      <td>4.3</td>\n",
       "      <td>https://rukminim1.flixcart.com/image/312/312/l...</td>\n",
       "    </tr>\n",
       "    <tr>\n",
       "      <th>18</th>\n",
       "      <td>POCO C31 (Shadow Gray, 64 GB)</td>\n",
       "      <td>₹8,749</td>\n",
       "      <td>4.4</td>\n",
       "      <td>https://rukminim1.flixcart.com/image/312/312/k...</td>\n",
       "    </tr>\n",
       "    <tr>\n",
       "      <th>19</th>\n",
       "      <td>APPLE iPhone 13 Pro (Silver, 1 TB)</td>\n",
       "      <td>₹1,69,900</td>\n",
       "      <td>4.7</td>\n",
       "      <td>https://rukminim1.flixcart.com/image/312/312/k...</td>\n",
       "    </tr>\n",
       "    <tr>\n",
       "      <th>20</th>\n",
       "      <td>SAMSUNG Galaxy F22 (Denim Blue, 128 GB)</td>\n",
       "      <td>₹12,499</td>\n",
       "      <td>4.3</td>\n",
       "      <td>https://rukminim1.flixcart.com/image/312/312/k...</td>\n",
       "    </tr>\n",
       "    <tr>\n",
       "      <th>21</th>\n",
       "      <td>realme C11 2021 (Cool Blue, 32 GB)</td>\n",
       "      <td>₹7,499</td>\n",
       "      <td>4.4</td>\n",
       "      <td>https://rukminim1.flixcart.com/image/312/312/k...</td>\n",
       "    </tr>\n",
       "    <tr>\n",
       "      <th>22</th>\n",
       "      <td>realme C11 2021 (Cool Grey, 32 GB)</td>\n",
       "      <td>₹7,499</td>\n",
       "      <td>4.4</td>\n",
       "      <td>https://rukminim1.flixcart.com/image/312/312/k...</td>\n",
       "    </tr>\n",
       "    <tr>\n",
       "      <th>23</th>\n",
       "      <td>SAMSUNG Galaxy F22 (Denim Black, 128 GB)</td>\n",
       "      <td>₹12,499</td>\n",
       "      <td>4.3</td>\n",
       "      <td>https://rukminim1.flixcart.com/image/312/312/k...</td>\n",
       "    </tr>\n",
       "  </tbody>\n",
       "</table>\n",
       "</div>"
      ],
      "text/plain": [
       "                                         titles     prices ratings  \\\n",
       "0   Infinix HOT 12 Play (Daylight Green, 64 GB)     ₹8,499     4.3   \n",
       "1                REDMI 10 (Pacific Blue, 64 GB)     ₹9,999     4.4   \n",
       "2                APPLE iPhone 11 (Black, 64 GB)    ₹40,999     4.6   \n",
       "3     Infinix HOT 12 Play (Horizon Blue, 64 GB)     ₹8,499     4.3   \n",
       "4              REDMI 10 (Midnight Black, 64 GB)     ₹9,999     4.4   \n",
       "5     Infinix HOT 12 Play (Racing Black, 64 GB)     ₹8,499     4.3   \n",
       "6             REDMI 10 (Caribbean Green, 64 GB)     ₹9,999     4.4   \n",
       "7         REDMI 9i Sport (Metallic Blue, 64 GB)     ₹8,999     4.4   \n",
       "8                  POCO C31 (Royal Blue, 64 GB)     ₹8,749     4.4   \n",
       "9           REDMI 9i Sport (Coral Green, 64 GB)     ₹8,999     4.4   \n",
       "10         SAMSUNG Galaxy F12 (Sky Blue, 64 GB)    ₹11,499     4.3   \n",
       "11             realme C31 (Light Silver, 32 GB)     ₹8,749     4.6   \n",
       "12               realme C31 (Dark Green, 32 GB)     ₹8,749     4.6   \n",
       "13        SAMSUNG Galaxy F12 (Sea Green, 64 GB)    ₹11,499     4.3   \n",
       "14              APPLE iPhone 11 (White, 128 GB)    ₹45,999     4.6   \n",
       "15             ASUS ROG Phone 3 (Black, 128 GB)    ₹49,999     4.4   \n",
       "16               realme C31 (Dark Green, 64 GB)     ₹9,999     4.4   \n",
       "17   REDMI Note 10T 5G (Graphite Black, 128 GB)    ₹13,999     4.3   \n",
       "18                POCO C31 (Shadow Gray, 64 GB)     ₹8,749     4.4   \n",
       "19           APPLE iPhone 13 Pro (Silver, 1 TB)  ₹1,69,900     4.7   \n",
       "20      SAMSUNG Galaxy F22 (Denim Blue, 128 GB)    ₹12,499     4.3   \n",
       "21           realme C11 2021 (Cool Blue, 32 GB)     ₹7,499     4.4   \n",
       "22           realme C11 2021 (Cool Grey, 32 GB)     ₹7,499     4.4   \n",
       "23     SAMSUNG Galaxy F22 (Denim Black, 128 GB)    ₹12,499     4.3   \n",
       "\n",
       "                                           image_urls  \n",
       "0   https://rukminim1.flixcart.com/image/312/312/l...  \n",
       "1   https://rukminim1.flixcart.com/image/312/312/l...  \n",
       "2   https://rukminim1.flixcart.com/image/312/312/k...  \n",
       "3   https://rukminim1.flixcart.com/image/312/312/l...  \n",
       "4   https://rukminim1.flixcart.com/image/312/312/l...  \n",
       "5   https://rukminim1.flixcart.com/image/312/312/l...  \n",
       "6   https://rukminim1.flixcart.com/image/312/312/l...  \n",
       "7   https://rukminim1.flixcart.com/image/312/312/k...  \n",
       "8   https://rukminim1.flixcart.com/image/312/312/k...  \n",
       "9   https://rukminim1.flixcart.com/image/312/312/k...  \n",
       "10  https://rukminim1.flixcart.com/image/312/312/k...  \n",
       "11  https://rukminim1.flixcart.com/image/312/312/l...  \n",
       "12  https://rukminim1.flixcart.com/image/312/312/l...  \n",
       "13  https://rukminim1.flixcart.com/image/312/312/k...  \n",
       "14  https://rukminim1.flixcart.com/image/312/312/k...  \n",
       "15  https://rukminim1.flixcart.com/image/312/312/k...  \n",
       "16  https://rukminim1.flixcart.com/image/312/312/l...  \n",
       "17  https://rukminim1.flixcart.com/image/312/312/l...  \n",
       "18  https://rukminim1.flixcart.com/image/312/312/k...  \n",
       "19  https://rukminim1.flixcart.com/image/312/312/k...  \n",
       "20  https://rukminim1.flixcart.com/image/312/312/k...  \n",
       "21  https://rukminim1.flixcart.com/image/312/312/k...  \n",
       "22  https://rukminim1.flixcart.com/image/312/312/k...  \n",
       "23  https://rukminim1.flixcart.com/image/312/312/k...  "
      ]
     },
     "execution_count": 44,
     "metadata": {},
     "output_type": "execute_result"
    }
   ],
   "source": [
    "phone_information_df"
   ]
  },
  {
   "cell_type": "code",
   "execution_count": 46,
   "id": "814557cd",
   "metadata": {},
   "outputs": [],
   "source": [
    "phone_information_df.to_csv('flipkart_phone_info.csv',index=None)"
   ]
  },
  {
   "cell_type": "code",
   "execution_count": 95,
   "id": "809aae6e",
   "metadata": {},
   "outputs": [],
   "source": [
    "pages=10\n",
    "all_phone_titles,all_phone_ratings,all_phone_prices,all_phone_images=[],[],[],[]\n",
    "product_name='microwave oven'\n",
    "for page_no in range(2,pages+1):\n",
    "    url='https://www.flipkart.com/search?q='+product_name+'&otracker=search&otracker1=search&marketplace=FLIPKART&as-show=on&as=off&page='+str(page_no)\n",
    "    r = requests.get(url)\n",
    "    doc2 = BeautifulSoup(r.text,'html.parser')\n",
    "    ##TITLES\n",
    "    phone_titles_tags=doc2.findAll('div',class_='_4rR01T')\n",
    "    phone_titles=[titles.text for titles in phone_titles_tags]\n",
    "    if len(phone_titles[:24])==24:\n",
    "        all_phone_titles.extend(phone_titles[:24])\n",
    "    \n",
    "    \n",
    "    ##PRICES\n",
    "    phone_prices_tag = doc.findAll('div',{'class':'_30jeq3 _1_WHN1'})\n",
    "    phone_prices=[prices.text for prices in phone_prices_tag]\n",
    "    if len(phone_prices[:24])==len(phone_titles[:24]):\n",
    "        all_phone_prices.extend(phone_prices[:24])\n",
    "    \n",
    "    \n",
    "    ##RATINGS\n",
    "    phone_ratings_tag = doc.findAll('div',class_='_3LWZlK')\n",
    "    phone_ratings=[list(ratings.children)[0] for ratings in phone_ratings_tag]\n",
    "    if len(phone_ratings[:24])==len(phone_titles[:24]) and len(phone_ratings[:24])==len(phone_prices[:24]):\n",
    "        all_phone_ratings.extend(phone_ratings[:24])\n",
    "    \n",
    "    ##IMAGES\n",
    "    phone_image_tag = doc.findAll('div',class_='CXW8mj')\n",
    "    phone_images = [list(child.children)[0]['src'] for child in phone_image_tag]\n",
    "    if len(phone_images[:24])==len(phone_titles[:24]) and len(phone_ratings[:24])==len(phone_images[:24]) and len(phone_images[:24])==len(phone_prices[:24]):\n",
    "        all_phone_images.extend(phone_images[:24])\n",
    "    "
   ]
  },
  {
   "cell_type": "code",
   "execution_count": 96,
   "id": "f7986bcf",
   "metadata": {},
   "outputs": [
    {
     "name": "stdout",
     "output_type": "stream",
     "text": [
      "168 168 168 168\n"
     ]
    }
   ],
   "source": [
    "phone_info_dict={\n",
    "    'titles':all_phone_titles,\n",
    "    'prices':all_phone_prices,\n",
    "    'ratings':all_phone_ratings,\n",
    "    'image_urls':all_phone_images\n",
    "}\n",
    "print(len(phone_info_dict['prices']),len(phone_info_dict['titles']),len(phone_info_dict['ratings']),len(phone_info_dict['image_urls']))"
   ]
  },
  {
   "cell_type": "code",
   "execution_count": 97,
   "id": "263362dd",
   "metadata": {},
   "outputs": [],
   "source": [
    "all_phones_df = pd.DataFrame(phone_info_dict)"
   ]
  },
  {
   "cell_type": "code",
   "execution_count": 98,
   "id": "e8cbaa2a",
   "metadata": {},
   "outputs": [
    {
     "data": {
      "text/html": [
       "<div>\n",
       "<style scoped>\n",
       "    .dataframe tbody tr th:only-of-type {\n",
       "        vertical-align: middle;\n",
       "    }\n",
       "\n",
       "    .dataframe tbody tr th {\n",
       "        vertical-align: top;\n",
       "    }\n",
       "\n",
       "    .dataframe thead th {\n",
       "        text-align: right;\n",
       "    }\n",
       "</style>\n",
       "<table border=\"1\" class=\"dataframe\">\n",
       "  <thead>\n",
       "    <tr style=\"text-align: right;\">\n",
       "      <th></th>\n",
       "      <th>titles</th>\n",
       "      <th>prices</th>\n",
       "      <th>ratings</th>\n",
       "      <th>image_urls</th>\n",
       "    </tr>\n",
       "  </thead>\n",
       "  <tbody>\n",
       "    <tr>\n",
       "      <th>0</th>\n",
       "      <td>IFB 30 L Convection Microwave Oven</td>\n",
       "      <td>₹8,499</td>\n",
       "      <td>4.3</td>\n",
       "      <td>https://rukminim1.flixcart.com/image/312/312/l...</td>\n",
       "    </tr>\n",
       "    <tr>\n",
       "      <th>1</th>\n",
       "      <td>SAMSUNG 23 L Baker Series Microwave Oven with ...</td>\n",
       "      <td>₹9,999</td>\n",
       "      <td>4.4</td>\n",
       "      <td>https://rukminim1.flixcart.com/image/312/312/l...</td>\n",
       "    </tr>\n",
       "    <tr>\n",
       "      <th>2</th>\n",
       "      <td>LG 28 L Convection Microwave Oven</td>\n",
       "      <td>₹40,999</td>\n",
       "      <td>4.6</td>\n",
       "      <td>https://rukminim1.flixcart.com/image/312/312/k...</td>\n",
       "    </tr>\n",
       "    <tr>\n",
       "      <th>3</th>\n",
       "      <td>Panasonic 27 L Convection Microwave Oven</td>\n",
       "      <td>₹8,499</td>\n",
       "      <td>4.3</td>\n",
       "      <td>https://rukminim1.flixcart.com/image/312/312/l...</td>\n",
       "    </tr>\n",
       "    <tr>\n",
       "      <th>4</th>\n",
       "      <td>LG 28 L Convection Microwave Oven</td>\n",
       "      <td>₹9,999</td>\n",
       "      <td>4.4</td>\n",
       "      <td>https://rukminim1.flixcart.com/image/312/312/l...</td>\n",
       "    </tr>\n",
       "  </tbody>\n",
       "</table>\n",
       "</div>"
      ],
      "text/plain": [
       "                                              titles   prices ratings  \\\n",
       "0                 IFB 30 L Convection Microwave Oven   ₹8,499     4.3   \n",
       "1  SAMSUNG 23 L Baker Series Microwave Oven with ...   ₹9,999     4.4   \n",
       "2                  LG 28 L Convection Microwave Oven  ₹40,999     4.6   \n",
       "3           Panasonic 27 L Convection Microwave Oven   ₹8,499     4.3   \n",
       "4                  LG 28 L Convection Microwave Oven   ₹9,999     4.4   \n",
       "\n",
       "                                          image_urls  \n",
       "0  https://rukminim1.flixcart.com/image/312/312/l...  \n",
       "1  https://rukminim1.flixcart.com/image/312/312/l...  \n",
       "2  https://rukminim1.flixcart.com/image/312/312/k...  \n",
       "3  https://rukminim1.flixcart.com/image/312/312/l...  \n",
       "4  https://rukminim1.flixcart.com/image/312/312/l...  "
      ]
     },
     "execution_count": 98,
     "metadata": {},
     "output_type": "execute_result"
    }
   ],
   "source": [
    "all_phones_df.head()"
   ]
  },
  {
   "cell_type": "code",
   "execution_count": 99,
   "id": "84556e0e",
   "metadata": {},
   "outputs": [],
   "source": [
    "all_phones_df.to_csv('flipkart_microwaveOvens_info.csv',index=None)"
   ]
  },
  {
   "cell_type": "code",
   "execution_count": null,
   "id": "173533a0",
   "metadata": {},
   "outputs": [],
   "source": []
  }
 ],
 "metadata": {
  "kernelspec": {
   "display_name": "Python 3 (ipykernel)",
   "language": "python",
   "name": "python3"
  },
  "language_info": {
   "codemirror_mode": {
    "name": "ipython",
    "version": 3
   },
   "file_extension": ".py",
   "mimetype": "text/x-python",
   "name": "python",
   "nbconvert_exporter": "python",
   "pygments_lexer": "ipython3",
   "version": "3.10.2"
  }
 },
 "nbformat": 4,
 "nbformat_minor": 5
}
